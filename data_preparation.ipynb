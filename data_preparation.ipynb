{
 "cells": [
  {
   "cell_type": "code",
   "execution_count": 81,
   "metadata": {},
   "outputs": [],
   "source": [
    "import pandas as pd\n",
    "import networkx as nx\n",
    "import numpy as np\n",
    "import matplotlib.pyplot as plt"
   ]
  },
  {
   "cell_type": "code",
   "execution_count": 4,
   "metadata": {},
   "outputs": [],
   "source": [
    "G = nx.Graph()"
   ]
  },
  {
   "cell_type": "code",
   "execution_count": 5,
   "metadata": {},
   "outputs": [],
   "source": [
    "G.add_node(\"STOREY_3\")"
   ]
  },
  {
   "cell_type": "code",
   "execution_count": 6,
   "metadata": {},
   "outputs": [
    {
     "data": {
      "text/plain": [
       "<networkx.classes.graph.Graph at 0x7f9dd2cdc110>"
      ]
     },
     "execution_count": 6,
     "metadata": {},
     "output_type": "execute_result"
    }
   ],
   "source": []
  },
  {
   "cell_type": "code",
   "execution_count": 7,
   "metadata": {},
   "outputs": [
    {
     "data": {
      "text/plain": [
       "NodeView(('STOREY_3',))"
      ]
     },
     "execution_count": 7,
     "metadata": {},
     "output_type": "execute_result"
    }
   ],
   "source": [
    "G.nodes"
   ]
  },
  {
   "cell_type": "markdown",
   "metadata": {},
   "source": [
    "# read the space_data"
   ]
  },
  {
   "cell_type": "code",
   "execution_count": 73,
   "metadata": {},
   "outputs": [
    {
     "data": {
      "text/plain": [
       "Index(['id', ' x', ' y', ' space'], dtype='object')"
      ]
     },
     "execution_count": 73,
     "metadata": {},
     "output_type": "execute_result"
    }
   ],
   "source": [
    "cell_df = pd.read_csv(\"point_location_space.csv\")\n",
    "cell_df.columns"
   ]
  },
  {
   "cell_type": "code",
   "execution_count": 74,
   "metadata": {},
   "outputs": [],
   "source": [
    "cell_df = cell_df.rename(columns={\" space\":\"space\", \" x\":\"x\", \" y\":\"y\"})"
   ]
  },
  {
   "cell_type": "code",
   "execution_count": null,
   "metadata": {},
   "outputs": [],
   "source": []
  },
  {
   "cell_type": "code",
   "execution_count": 75,
   "metadata": {},
   "outputs": [
    {
     "name": "stdout",
     "output_type": "stream",
     "text": [
      "OPEN_EXHIBITION_SPACE_2\n",
      "ENERGY_LAB_1\n",
      "OUTSIDE_RESTROOM\n",
      "CAFE\n",
      "BEEHUB_NEXUS\n"
     ]
    }
   ],
   "source": [
    "for i in cell_df[\"space\"].value_counts().index:\n",
    "    print(i)"
   ]
  },
  {
   "cell_type": "code",
   "execution_count": 40,
   "metadata": {},
   "outputs": [],
   "source": [
    "spaces = [\"OPEN_EXHIBITION_SPACE_2\",\n",
    "\"ENERGY_LAB_1\",\n",
    "\"OUTSIDE_RESTROOM\",\n",
    "\"CAFE\",\n",
    "\"BEEHUB_NEXUS\"]\n",
    "G.add_nodes_from(spaces)"
   ]
  },
  {
   "cell_type": "code",
   "execution_count": 59,
   "metadata": {},
   "outputs": [
    {
     "data": {
      "text/html": [
       "<div>\n",
       "<style scoped>\n",
       "    .dataframe tbody tr th:only-of-type {\n",
       "        vertical-align: middle;\n",
       "    }\n",
       "\n",
       "    .dataframe tbody tr th {\n",
       "        vertical-align: top;\n",
       "    }\n",
       "\n",
       "    .dataframe thead th {\n",
       "        text-align: right;\n",
       "    }\n",
       "</style>\n",
       "<table border=\"1\" class=\"dataframe\">\n",
       "  <thead>\n",
       "    <tr style=\"text-align: right;\">\n",
       "      <th></th>\n",
       "      <th>name</th>\n",
       "      <th>area</th>\n",
       "      <th>occupancy</th>\n",
       "    </tr>\n",
       "  </thead>\n",
       "  <tbody>\n",
       "    <tr>\n",
       "      <th>0</th>\n",
       "      <td>OPEN_EXHIBITION_SPACE_2</td>\n",
       "      <td>8155.00</td>\n",
       "      <td>200</td>\n",
       "    </tr>\n",
       "    <tr>\n",
       "      <th>1</th>\n",
       "      <td>ENERGY_LAB_1</td>\n",
       "      <td>1507.90</td>\n",
       "      <td>30</td>\n",
       "    </tr>\n",
       "    <tr>\n",
       "      <th>2</th>\n",
       "      <td>OUTSIDE_RESTROOM</td>\n",
       "      <td>645.47</td>\n",
       "      <td>10</td>\n",
       "    </tr>\n",
       "    <tr>\n",
       "      <th>3</th>\n",
       "      <td>CAFE</td>\n",
       "      <td>980.00</td>\n",
       "      <td>8</td>\n",
       "    </tr>\n",
       "    <tr>\n",
       "      <th>4</th>\n",
       "      <td>BEEHUB_NEXUS</td>\n",
       "      <td>250.94</td>\n",
       "      <td>15</td>\n",
       "    </tr>\n",
       "  </tbody>\n",
       "</table>\n",
       "</div>"
      ],
      "text/plain": [
       "                      name     area  occupancy\n",
       "0  OPEN_EXHIBITION_SPACE_2  8155.00        200\n",
       "1             ENERGY_LAB_1  1507.90         30\n",
       "2         OUTSIDE_RESTROOM   645.47         10\n",
       "3                     CAFE   980.00          8\n",
       "4             BEEHUB_NEXUS   250.94         15"
      ]
     },
     "execution_count": 59,
     "metadata": {},
     "output_type": "execute_result"
    }
   ],
   "source": [
    "space_df = pd.DataFrame({\"name\":[\"OPEN_EXHIBITION_SPACE_2\",\n",
    "\"ENERGY_LAB_1\",\n",
    "\"OUTSIDE_RESTROOM\",\n",
    "\"CAFE\",\n",
    "\"BEEHUB_NEXUS\"], \"area\":[8155., 1507.9, 645.47, 980., 250.94], \"occupancy\": [200, 30, 10, 8, 15]})\n",
    "space_df"
   ]
  },
  {
   "cell_type": "code",
   "execution_count": 68,
   "metadata": {},
   "outputs": [
    {
     "data": {
      "text/plain": [
       "{'OPEN_EXHIBITION_SPACE_2': 8155.0,\n",
       " 'ENERGY_LAB_1': 1507.9,\n",
       " 'OUTSIDE_RESTROOM': 645.47,\n",
       " 'CAFE': 980.0,\n",
       " 'BEEHUB_NEXUS': 250.94}"
      ]
     },
     "execution_count": 68,
     "metadata": {},
     "output_type": "execute_result"
    }
   ],
   "source": [
    "space_area = {}\n",
    "space_occupancy = {}\n",
    "\n",
    "def set_space_area(x):\n",
    "    space_area[x[\"name\"]]= x[\"area\"]\n",
    "    space_occupancy[x[\"name\"]]= x[\"occupancy\"]\n",
    "\n",
    "h = space_df.apply(lambda x: set_space_area(x), axis=1)\n",
    "space_area"
   ]
  },
  {
   "cell_type": "code",
   "execution_count": 72,
   "metadata": {},
   "outputs": [],
   "source": [
    "space_df.to_csv(\"space_attributes.csv\", index=False)"
   ]
  },
  {
   "cell_type": "code",
   "execution_count": 70,
   "metadata": {},
   "outputs": [
    {
     "data": {
      "text/plain": [
       "NodeView(('STOREY_3', 'OPEN_EXHIBITION_SPACE_2', 'ENERGY_LAB_1', 'OUTSIDE_RESTROOM', 'CAFE', 'BEEHUB_NEXUS'))"
      ]
     },
     "execution_count": 70,
     "metadata": {},
     "output_type": "execute_result"
    }
   ],
   "source": [
    "nx.set_node_attributes(G, space_area, \"space_area\")\n",
    "nx.set_node_attributes(G, space_occupancy, \"space_occupancy\")\n",
    "G.nodes"
   ]
  },
  {
   "cell_type": "code",
   "execution_count": null,
   "metadata": {},
   "outputs": [],
   "source": [
    "cell_df[\"cell_id\"] = cell_df[\"id\"].apply(lambda x : \"c_\"+str(x))\n",
    "cell_df = cell_df[[\"cell_id\", \"x\", \"y\", \"space\"]]"
   ]
  },
  {
   "cell_type": "code",
   "execution_count": 77,
   "metadata": {},
   "outputs": [
    {
     "data": {
      "text/html": [
       "<div>\n",
       "<style scoped>\n",
       "    .dataframe tbody tr th:only-of-type {\n",
       "        vertical-align: middle;\n",
       "    }\n",
       "\n",
       "    .dataframe tbody tr th {\n",
       "        vertical-align: top;\n",
       "    }\n",
       "\n",
       "    .dataframe thead th {\n",
       "        text-align: right;\n",
       "    }\n",
       "</style>\n",
       "<table border=\"1\" class=\"dataframe\">\n",
       "  <thead>\n",
       "    <tr style=\"text-align: right;\">\n",
       "      <th></th>\n",
       "      <th>cell_id</th>\n",
       "      <th>x</th>\n",
       "      <th>y</th>\n",
       "      <th>space</th>\n",
       "    </tr>\n",
       "  </thead>\n",
       "  <tbody>\n",
       "    <tr>\n",
       "      <th>0</th>\n",
       "      <td>c_0</td>\n",
       "      <td>123.246849</td>\n",
       "      <td>47.275810</td>\n",
       "      <td>CAFE</td>\n",
       "    </tr>\n",
       "    <tr>\n",
       "      <th>1</th>\n",
       "      <td>c_1</td>\n",
       "      <td>121.592880</td>\n",
       "      <td>49.439251</td>\n",
       "      <td>CAFE</td>\n",
       "    </tr>\n",
       "    <tr>\n",
       "      <th>2</th>\n",
       "      <td>c_2</td>\n",
       "      <td>122.885040</td>\n",
       "      <td>52.075203</td>\n",
       "      <td>CAFE</td>\n",
       "    </tr>\n",
       "    <tr>\n",
       "      <th>3</th>\n",
       "      <td>c_3</td>\n",
       "      <td>125.469391</td>\n",
       "      <td>53.389587</td>\n",
       "      <td>CAFE</td>\n",
       "    </tr>\n",
       "    <tr>\n",
       "      <th>4</th>\n",
       "      <td>c_4</td>\n",
       "      <td>127.588554</td>\n",
       "      <td>51.703442</td>\n",
       "      <td>CAFE</td>\n",
       "    </tr>\n",
       "  </tbody>\n",
       "</table>\n",
       "</div>"
      ],
      "text/plain": [
       "  cell_id           x          y space\n",
       "0     c_0  123.246849  47.275810  CAFE\n",
       "1     c_1  121.592880  49.439251  CAFE\n",
       "2     c_2  122.885040  52.075203  CAFE\n",
       "3     c_3  125.469391  53.389587  CAFE\n",
       "4     c_4  127.588554  51.703442  CAFE"
      ]
     },
     "execution_count": 77,
     "metadata": {},
     "output_type": "execute_result"
    }
   ],
   "source": [
    "cell_df.head()"
   ]
  },
  {
   "cell_type": "code",
   "execution_count": 46,
   "metadata": {},
   "outputs": [],
   "source": [
    "cell_df.to_csv(\"cell_space.csv\", index=False)"
   ]
  },
  {
   "cell_type": "code",
   "execution_count": 48,
   "metadata": {},
   "outputs": [],
   "source": []
  },
  {
   "cell_type": "code",
   "execution_count": 50,
   "metadata": {},
   "outputs": [
    {
     "data": {
      "text/plain": [
       "EdgeView([('STOREY_3', 'OPEN_EXHIBITION_SPACE_2'), ('STOREY_3', 'ENERGY_LAB_1'), ('STOREY_3', 'OUTSIDE_RESTROOM'), ('STOREY_3', 'CAFE'), ('STOREY_3', 'BEEHUB_NEXUS')])"
      ]
     },
     "execution_count": 50,
     "metadata": {},
     "output_type": "execute_result"
    }
   ],
   "source": [
    "for i in spaces:\n",
    "    G.add_edge(\"STOREY_3\", i)\n",
    "G.edges"
   ]
  },
  {
   "cell_type": "code",
   "execution_count": 78,
   "metadata": {},
   "outputs": [
    {
     "data": {
      "text/html": [
       "<div>\n",
       "<style scoped>\n",
       "    .dataframe tbody tr th:only-of-type {\n",
       "        vertical-align: middle;\n",
       "    }\n",
       "\n",
       "    .dataframe tbody tr th {\n",
       "        vertical-align: top;\n",
       "    }\n",
       "\n",
       "    .dataframe thead th {\n",
       "        text-align: right;\n",
       "    }\n",
       "</style>\n",
       "<table border=\"1\" class=\"dataframe\">\n",
       "  <thead>\n",
       "    <tr style=\"text-align: right;\">\n",
       "      <th></th>\n",
       "      <th>cell_id</th>\n",
       "      <th>x</th>\n",
       "      <th>y</th>\n",
       "      <th>space</th>\n",
       "    </tr>\n",
       "  </thead>\n",
       "  <tbody>\n",
       "    <tr>\n",
       "      <th>0</th>\n",
       "      <td>c_0</td>\n",
       "      <td>123.246849</td>\n",
       "      <td>47.275810</td>\n",
       "      <td>CAFE</td>\n",
       "    </tr>\n",
       "    <tr>\n",
       "      <th>1</th>\n",
       "      <td>c_1</td>\n",
       "      <td>121.592880</td>\n",
       "      <td>49.439251</td>\n",
       "      <td>CAFE</td>\n",
       "    </tr>\n",
       "    <tr>\n",
       "      <th>2</th>\n",
       "      <td>c_2</td>\n",
       "      <td>122.885040</td>\n",
       "      <td>52.075203</td>\n",
       "      <td>CAFE</td>\n",
       "    </tr>\n",
       "    <tr>\n",
       "      <th>3</th>\n",
       "      <td>c_3</td>\n",
       "      <td>125.469391</td>\n",
       "      <td>53.389587</td>\n",
       "      <td>CAFE</td>\n",
       "    </tr>\n",
       "    <tr>\n",
       "      <th>4</th>\n",
       "      <td>c_4</td>\n",
       "      <td>127.588554</td>\n",
       "      <td>51.703442</td>\n",
       "      <td>CAFE</td>\n",
       "    </tr>\n",
       "  </tbody>\n",
       "</table>\n",
       "</div>"
      ],
      "text/plain": [
       "  cell_id           x          y space\n",
       "0     c_0  123.246849  47.275810  CAFE\n",
       "1     c_1  121.592880  49.439251  CAFE\n",
       "2     c_2  122.885040  52.075203  CAFE\n",
       "3     c_3  125.469391  53.389587  CAFE\n",
       "4     c_4  127.588554  51.703442  CAFE"
      ]
     },
     "execution_count": 78,
     "metadata": {},
     "output_type": "execute_result"
    }
   ],
   "source": [
    "cell_df.head()"
   ]
  },
  {
   "cell_type": "code",
   "execution_count": 79,
   "metadata": {},
   "outputs": [],
   "source": [
    "cell_x = {}\n",
    "cell_y = {}\n",
    "def add_cells(x):\n",
    "    G.add_edge(x[\"cell_id\"], x[\"space\"])\n",
    "    cell_x[x[\"cell_id\"]] = x[\"x\"]\n",
    "    cell_y[x[\"cell_id\"]] = x[\"y\"]\n",
    "    \n",
    "hh = cell_df.apply(lambda x : add_cells(x), axis=1)"
   ]
  },
  {
   "cell_type": "code",
   "execution_count": 87,
   "metadata": {},
   "outputs": [
    {
     "data": {
      "image/png": "[encoded data removed]",
      "text/plain": [
       "<Figure size 720x720 with 1 Axes>"
      ]
     },
     "metadata": {},
     "output_type": "display_data"
    }
   ],
   "source": [
    "plt.figure(figsize=(10,10))\n",
    "nx.draw(G, sizes=0.2)"
   ]
  },
  {
   "cell_type": "code",
   "execution_count": 83,
   "metadata": {},
   "outputs": [
    {
     "data": {
      "text/html": [
       "<div>\n",
       "<style scoped>\n",
       "    .dataframe tbody tr th:only-of-type {\n",
       "        vertical-align: middle;\n",
       "    }\n",
       "\n",
       "    .dataframe tbody tr th {\n",
       "        vertical-align: top;\n",
       "    }\n",
       "\n",
       "    .dataframe thead th {\n",
       "        text-align: right;\n",
       "    }\n",
       "</style>\n",
       "<table border=\"1\" class=\"dataframe\">\n",
       "  <thead>\n",
       "    <tr style=\"text-align: right;\">\n",
       "      <th></th>\n",
       "      <th>source</th>\n",
       "      <th>target</th>\n",
       "    </tr>\n",
       "  </thead>\n",
       "  <tbody>\n",
       "    <tr>\n",
       "      <th>0</th>\n",
       "      <td>STOREY_3</td>\n",
       "      <td>OPEN_EXHIBITION_SPACE_2</td>\n",
       "    </tr>\n",
       "    <tr>\n",
       "      <th>1</th>\n",
       "      <td>STOREY_3</td>\n",
       "      <td>ENERGY_LAB_1</td>\n",
       "    </tr>\n",
       "    <tr>\n",
       "      <th>2</th>\n",
       "      <td>STOREY_3</td>\n",
       "      <td>OUTSIDE_RESTROOM</td>\n",
       "    </tr>\n",
       "    <tr>\n",
       "      <th>3</th>\n",
       "      <td>STOREY_3</td>\n",
       "      <td>CAFE</td>\n",
       "    </tr>\n",
       "    <tr>\n",
       "      <th>4</th>\n",
       "      <td>STOREY_3</td>\n",
       "      <td>BEEHUB_NEXUS</td>\n",
       "    </tr>\n",
       "    <tr>\n",
       "      <th>...</th>\n",
       "      <td>...</td>\n",
       "      <td>...</td>\n",
       "    </tr>\n",
       "    <tr>\n",
       "      <th>627</th>\n",
       "      <td>BEEHUB_NEXUS</td>\n",
       "      <td>c_622</td>\n",
       "    </tr>\n",
       "    <tr>\n",
       "      <th>628</th>\n",
       "      <td>BEEHUB_NEXUS</td>\n",
       "      <td>c_623</td>\n",
       "    </tr>\n",
       "    <tr>\n",
       "      <th>629</th>\n",
       "      <td>BEEHUB_NEXUS</td>\n",
       "      <td>c_624</td>\n",
       "    </tr>\n",
       "    <tr>\n",
       "      <th>630</th>\n",
       "      <td>BEEHUB_NEXUS</td>\n",
       "      <td>c_625</td>\n",
       "    </tr>\n",
       "    <tr>\n",
       "      <th>631</th>\n",
       "      <td>BEEHUB_NEXUS</td>\n",
       "      <td>c_626</td>\n",
       "    </tr>\n",
       "  </tbody>\n",
       "</table>\n",
       "<p>632 rows × 2 columns</p>\n",
       "</div>"
      ],
      "text/plain": [
       "           source                   target\n",
       "0        STOREY_3  OPEN_EXHIBITION_SPACE_2\n",
       "1        STOREY_3             ENERGY_LAB_1\n",
       "2        STOREY_3         OUTSIDE_RESTROOM\n",
       "3        STOREY_3                     CAFE\n",
       "4        STOREY_3             BEEHUB_NEXUS\n",
       "..            ...                      ...\n",
       "627  BEEHUB_NEXUS                    c_622\n",
       "628  BEEHUB_NEXUS                    c_623\n",
       "629  BEEHUB_NEXUS                    c_624\n",
       "630  BEEHUB_NEXUS                    c_625\n",
       "631  BEEHUB_NEXUS                    c_626\n",
       "\n",
       "[632 rows x 2 columns]"
      ]
     },
     "execution_count": 83,
     "metadata": {},
     "output_type": "execute_result"
    }
   ],
   "source": [
    "graph_pandas = nx.to_pandas_edgelist(G)\n",
    "graph_pandas"
   ]
  },
  {
   "cell_type": "markdown",
   "metadata": {},
   "source": [
    "# READ PEOPLE DATA"
   ]
  },
  {
   "cell_type": "code",
   "execution_count": 111,
   "metadata": {},
   "outputs": [
    {
     "data": {
      "text/plain": [
       "<bound method IndexOpsMixin.value_counts of 35     cresh01\n",
       "136    cresh01\n",
       "137    cresh01\n",
       "139    cresh01\n",
       "42     cresh01\n",
       "        ...   \n",
       "99     cresh39\n",
       "7      cresh39\n",
       "159    cresh39\n",
       "164    cresh39\n",
       "209    cresh41\n",
       "Name: user_id, Length: 341, dtype: object>"
      ]
     },
     "execution_count": 111,
     "metadata": {},
     "output_type": "execute_result"
    }
   ],
   "source": [
    "people_df = pd.read_csv(\"./dataframe_x_y_location.csv\").sort_values(by=\"user_id\")\n",
    "people_df['user_id'].value_counts"
   ]
  },
  {
   "cell_type": "code",
   "execution_count": null,
   "metadata": {},
   "outputs": [],
   "source": []
  }
 ],
 "metadata": {
  "kernelspec": {
   "display_name": "Python 3",
   "language": "python",
   "name": "python3"
  },
  "language_info": {
   "codemirror_mode": {
    "name": "ipython",
    "version": 3
   },
   "file_extension": ".py",
   "mimetype": "text/x-python",
   "name": "python",
   "nbconvert_exporter": "python",
   "pygments_lexer": "ipython3",
   "version": "3.7.7"
  }
 },
 "nbformat": 4,
 "nbformat_minor": 4
}
