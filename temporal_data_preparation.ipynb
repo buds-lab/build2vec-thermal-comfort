{
 "cells": [
  {
   "cell_type": "code",
   "execution_count": 286,
   "metadata": {},
   "outputs": [],
   "source": [
    "import pandas as pd\n",
    "import os"
   ]
  },
  {
   "cell_type": "code",
   "execution_count": 287,
   "metadata": {},
   "outputs": [],
   "source": [
    "src_dir = \"./output_data_files2/\"\n",
    "files = os.listdir(src_dir)\n",
    "file_list=[]\n",
    "for f in files:\n",
    "    if \".csv\" in f:\n",
    "        file_list.append(f)\n",
    "file_list.sort()"
   ]
  },
  {
   "cell_type": "code",
   "execution_count": 288,
   "metadata": {},
   "outputs": [
    {
     "name": "stdout",
     "output_type": "stream",
     "text": [
      "./output_data_files2/0.csv\n"
     ]
    }
   ],
   "source": [
    "print(src_dir+file_list[0])"
   ]
  },
  {
   "cell_type": "code",
   "execution_count": 289,
   "metadata": {},
   "outputs": [],
   "source": [
    "all_dfs=[]\n",
    "for f in file_list:\n",
    "    all_dfs.append(pd.read_csv(src_dir+f, parse_dates=True, index_col='time'))\n",
    "temporal_df = pd.concat(all_dfs)"
   ]
  },
  {
   "cell_type": "code",
   "execution_count": 290,
   "metadata": {},
   "outputs": [],
   "source": [
    "def cell_list(x):\n",
    "    numbers = x.split(\"||\")\n",
    "    return [\"c_\"+i for i in numbers]\n",
    "temporal_df[\"cell_list\"] = temporal_df[\"cells\"].apply(lambda x : cell_list(x))"
   ]
  },
  {
   "cell_type": "code",
   "execution_count": 291,
   "metadata": {},
   "outputs": [
    {
     "data": {
      "text/plain": [
       "Index(['clo', 'comfort_cozie', 'heartRate_cozie', 'lat_cozie', 'light_cozie',\n",
       "       'lon_cozie', 'noise_cozie', 'responseSpeed_cozie', 'thermal_cozie',\n",
       "       'user_id', 'Floor', 'Latitude', 'Longitude', 'Space_id', 'room',\n",
       "       'co2_sensing', 'humidity_sensing', 'light_sensing', 'noise_sensing',\n",
       "       'temperature_sensing', 'voc_sensing', 'px', 'py', 'cells', 'cell_list'],\n",
       "      dtype='object')"
      ]
     },
     "execution_count": 291,
     "metadata": {},
     "output_type": "execute_result"
    }
   ],
   "source": [
    "temporal_df.columns"
   ]
  },
  {
   "cell_type": "code",
   "execution_count": 292,
   "metadata": {},
   "outputs": [],
   "source": [
    "temporal_df= temporal_df.sort_values(by=\"time\")"
   ]
  },
  {
   "cell_type": "code",
   "execution_count": 301,
   "metadata": {},
   "outputs": [],
   "source": [
    "sampling=\"24\"\n",
    "temporal_df2 = temporal_df.groupby(pd.Grouper(freq=sampling+'h')).apply(lambda x: x.groupby(['time']).first())"
   ]
  },
  {
   "cell_type": "code",
   "execution_count": 302,
   "metadata": {},
   "outputs": [],
   "source": [
    "asd = temporal_df2.reset_index(drop=True)\n",
    "# asd.loc[[0,1,3]]\n",
    "\n",
    "n=0\n",
    "for k, v in temporal_df2.groupby('time').groups.items():\n",
    "    n+=1\n",
    "    file_name = str(k).replace(\" \", \"_\")\n",
    "    codes = list(v.codes[1])\n",
    "    temp_df = asd.loc[codes].to_csv(\"./\"+sampling+\"H_sampling/\"+file_name+\".csv\", index=False)"
   ]
  },
  {
   "cell_type": "code",
   "execution_count": 217,
   "metadata": {},
   "outputs": [
    {
     "data": {
      "text/plain": [
       "(Timestamp('2019-09-30 03:00:00+0000', tz='UTC', freq='3H'),\n",
       " Timestamp('2019-09-30 04:48:46.900000+0000', tz='UTC'))"
      ]
     },
     "execution_count": 217,
     "metadata": {},
     "output_type": "execute_result"
    }
   ],
   "source": [
    "temporal_df2.index[0]"
   ]
  },
  {
   "cell_type": "code",
   "execution_count": 210,
   "metadata": {},
   "outputs": [],
   "source": [
    "temporal_df2.to_csv(\"goodone.csv\")"
   ]
  },
  {
   "cell_type": "code",
   "execution_count": 214,
   "metadata": {},
   "outputs": [
    {
     "data": {
      "text/plain": [
       "(Timestamp('2019-09-30 03:00:00+0000', tz='UTC', freq='3H'),\n",
       " Timestamp('2019-09-30 04:48:46.900000+0000', tz='UTC'))"
      ]
     },
     "execution_count": 214,
     "metadata": {},
     "output_type": "execute_result"
    }
   ],
   "source": [
    "temporal_df2"
   ]
  },
  {
   "cell_type": "code",
   "execution_count": 218,
   "metadata": {},
   "outputs": [
    {
     "data": {
      "text/plain": [
       "<pandas.core.groupby.generic.DataFrameGroupBy object at 0x7fd5823c4d10>"
      ]
     },
     "execution_count": 218,
     "metadata": {},
     "output_type": "execute_result"
    }
   ],
   "source": []
  },
  {
   "cell_type": "code",
   "execution_count": null,
   "metadata": {},
   "outputs": [],
   "source": []
  }
 ],
 "metadata": {
  "kernelspec": {
   "display_name": "Python 3",
   "language": "python",
   "name": "python3"
  },
  "language_info": {
   "codemirror_mode": {
    "name": "ipython",
    "version": 3
   },
   "file_extension": ".py",
   "mimetype": "text/x-python",
   "name": "python",
   "nbconvert_exporter": "python",
   "pygments_lexer": "ipython3",
   "version": "3.7.7"
  }
 },
 "nbformat": 4,
 "nbformat_minor": 4
}
