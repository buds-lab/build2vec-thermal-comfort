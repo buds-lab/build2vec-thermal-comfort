{
 "cells": [
  {
   "cell_type": "markdown",
   "metadata": {},
   "source": [
    "# 1. Define all the attributes:"
   ]
  },
  {
   "cell_type": "markdown",
   "metadata": {},
   "source": [
    "1. user attributes  (assume 15) --> temporal (50 time steps) : --> 50 * 15 \n",
    "    - user n.nodes = 40\n",
    "2. space attributes (assume 3)\n",
    "    - space n.nodes = 5\n",
    "3. cell attributes ( assume 5)\n",
    "    - cell n.nodes = 3000\n",
    "4. furniture attributes (assume 5)\n",
    "    - furni. n.nodes = 20\n",
    "5. ceiling fan attributes (assume 2)\n",
    "    - fans n.nodes = 10\n",
    "    \n",
    "#### total n. nodes = 3075\n",
    "#### time steps = 50\n",
    "#### attributes = 30\n"
   ]
  },
  {
   "cell_type": "markdown",
   "metadata": {},
   "source": [
    "## method 1 : \n",
    "\n",
    "| node | attributes |\n",
    "|--|--|\n",
    "|c_12|0,0,0,12.,123.1,322|\n",
    "|u_23|12, 2, 3, 0,0,0,|\n"
   ]
  },
  {
   "cell_type": "markdown",
   "metadata": {},
   "source": [
    "### Method 2: \n",
    "use graph embeddings to generate attributes"
   ]
  },
  {
   "cell_type": "code",
   "execution_count": 1,
   "metadata": {},
   "outputs": [],
   "source": [
    "import pandas as pd\n",
    "import numpy as np\n",
    "import os"
   ]
  },
  {
   "cell_type": "code",
   "execution_count": 2,
   "metadata": {},
   "outputs": [
    {
     "name": "stdout",
     "output_type": "stream",
     "text": [
      "133  Time steps\n"
     ]
    }
   ],
   "source": [
    "# load 3H samples\n",
    "src_dir = \"./1H_sampling/\"\n",
    "\n",
    "target_dir = \"./Temporal_graphs_1H_sampling/\"\n",
    "target_user_dir = target_dir+\"user_graph_1H/\"\n",
    "target_sensor_dir =target_dir+ \"sensor_graph_1H/\"\n",
    "target_thermalcomfort_dir =target_dir+ \"thermal_comfort_1H/\"\n",
    "\n",
    "\n",
    "files= os.listdir(src_dir)\n",
    "print(len(files), \" Time steps\")\n",
    "file_list = []\n",
    "for f in files:\n",
    "    if \".csv\" in f:\n",
    "        file_list.append(f)\n",
    "        \n",
    "        "
   ]
  },
  {
   "cell_type": "code",
   "execution_count": 3,
   "metadata": {},
   "outputs": [],
   "source": [
    "user_attrib = ['user_node',\n",
    "               'cell_list', 'clo', 'heartRate_cozie', 'responseSpeed_cozie', 'comfort_cozie',\n",
    "       'noise_cozie', 'thermal_cozie', 'light_cozie', 'user_id']\n",
    "\n",
    "sensor_attributes = ['room',\n",
    "       'co2_sensing', 'humidity_sensing', 'light_sensing', 'noise_sensing',\n",
    "       'temperature_sensing', 'voc_sensing']\n",
    "\n",
    "thermal_comfort_node_attibutes =  ['label_thermal','user_node',\n",
    "               'cell_list', 'clo', 'heartRate_cozie', 'responseSpeed_cozie', 'comfort_cozie',\n",
    "       'noise_cozie', 'thermal_cozie', 'light_cozie']\n",
    "\n",
    "for f in file_list:\n",
    "    df = pd.read_csv(src_dir+f)\n",
    "    df[\"user_node\"] = df['user_id'].apply(lambda x : x.replace(\"cresh\", \"u_\"))\n",
    "    df[\"label_thermal\"] = df[\"thermal_cozie\"].apply(lambda x : \"thermal_\"+str(x))\n",
    "    df[\"label_noise\"] = df[\"noise_cozie\"].apply(lambda x : \"noise_\"+str(x))\n",
    "    df[\"label_light\"] = df[\"light_cozie\"].apply(lambda x : \"light_\"+str(x))\n",
    "    df[\"label_comfort\"] = df[\"comfort_cozie\"].apply(lambda x : \"comfort_\"+str(x))\n",
    "    \n",
    "    user_df = df[user_attrib]\n",
    "    sensor_df = df[sensor_attributes]\n",
    "    thermal_comfort_df = df[thermal_comfort_node_attibutes]\n",
    "    user_comfort_labels_graph = df[[\"user_node\",\"label_thermal\",\"label_noise\",\"label_light\",\"label_comfort\"]]\n",
    "    \n",
    "    user_df.to_csv(target_user_dir+\"u_\"+f, index=False)\n",
    "    sensor_df.to_csv(target_sensor_dir+\"s_\"+ f, index =False)\n",
    "    thermal_comfort_df.to_csv(target_thermalcomfort_dir+f, index=False)"
   ]
  },
  {
   "cell_type": "code",
   "execution_count": 4,
   "metadata": {},
   "outputs": [
    {
     "data": {
      "text/html": [
       "<div>\n",
       "<style scoped>\n",
       "    .dataframe tbody tr th:only-of-type {\n",
       "        vertical-align: middle;\n",
       "    }\n",
       "\n",
       "    .dataframe tbody tr th {\n",
       "        vertical-align: top;\n",
       "    }\n",
       "\n",
       "    .dataframe thead th {\n",
       "        text-align: right;\n",
       "    }\n",
       "</style>\n",
       "<table border=\"1\" class=\"dataframe\">\n",
       "  <thead>\n",
       "    <tr style=\"text-align: right;\">\n",
       "      <th></th>\n",
       "      <th>user_node</th>\n",
       "      <th>label_thermal</th>\n",
       "      <th>label_noise</th>\n",
       "      <th>label_light</th>\n",
       "      <th>label_comfort</th>\n",
       "    </tr>\n",
       "  </thead>\n",
       "  <tbody>\n",
       "    <tr>\n",
       "      <th>0</th>\n",
       "      <td>u_25</td>\n",
       "      <td>thermal_10.0</td>\n",
       "      <td>noise_10.0</td>\n",
       "      <td>light_9.0</td>\n",
       "      <td>comfort_9.0</td>\n",
       "    </tr>\n",
       "    <tr>\n",
       "      <th>1</th>\n",
       "      <td>u_25</td>\n",
       "      <td>thermal_10.0</td>\n",
       "      <td>noise_10.0</td>\n",
       "      <td>light_9.0</td>\n",
       "      <td>comfort_10.0</td>\n",
       "    </tr>\n",
       "    <tr>\n",
       "      <th>2</th>\n",
       "      <td>u_25</td>\n",
       "      <td>thermal_10.0</td>\n",
       "      <td>noise_10.0</td>\n",
       "      <td>light_9.0</td>\n",
       "      <td>comfort_10.0</td>\n",
       "    </tr>\n",
       "    <tr>\n",
       "      <th>3</th>\n",
       "      <td>u_25</td>\n",
       "      <td>thermal_10.0</td>\n",
       "      <td>noise_10.0</td>\n",
       "      <td>light_9.0</td>\n",
       "      <td>comfort_10.0</td>\n",
       "    </tr>\n",
       "  </tbody>\n",
       "</table>\n",
       "</div>"
      ],
      "text/plain": [
       "  user_node label_thermal label_noise label_light label_comfort\n",
       "0      u_25  thermal_10.0  noise_10.0   light_9.0   comfort_9.0\n",
       "1      u_25  thermal_10.0  noise_10.0   light_9.0  comfort_10.0\n",
       "2      u_25  thermal_10.0  noise_10.0   light_9.0  comfort_10.0\n",
       "3      u_25  thermal_10.0  noise_10.0   light_9.0  comfort_10.0"
      ]
     },
     "execution_count": 4,
     "metadata": {},
     "output_type": "execute_result"
    }
   ],
   "source": [
    "user_comfort_labels_graph"
   ]
  },
  {
   "cell_type": "code",
   "execution_count": null,
   "metadata": {},
   "outputs": [],
   "source": []
  },
  {
   "cell_type": "code",
   "execution_count": 11,
   "metadata": {},
   "outputs": [],
   "source": [
    "\n"
   ]
  },
  {
   "cell_type": "code",
   "execution_count": null,
   "metadata": {},
   "outputs": [],
   "source": []
  }
 ],
 "metadata": {
  "kernelspec": {
   "display_name": "Python 3",
   "language": "python",
   "name": "python3"
  },
  "language_info": {
   "codemirror_mode": {
    "name": "ipython",
    "version": 3
   },
   "file_extension": ".py",
   "mimetype": "text/x-python",
   "name": "python",
   "nbconvert_exporter": "python",
   "pygments_lexer": "ipython3",
   "version": "3.7.7"
  }
 },
 "nbformat": 4,
 "nbformat_minor": 4
}
